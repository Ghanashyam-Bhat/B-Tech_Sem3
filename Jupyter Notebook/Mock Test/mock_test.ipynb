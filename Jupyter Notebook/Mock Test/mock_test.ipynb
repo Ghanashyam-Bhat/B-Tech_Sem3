{
 "cells": [
  {
   "cell_type": "code",
   "execution_count": null,
   "id": "defc1f97-4fd3-458b-a673-a102ca3cabb0",
   "metadata": {},
   "outputs": [],
   "source": [
    "import numpy as np\n",
    "import pandas as pd\n",
    "import matplotlib.pyplot as plt\n",
    "df = pd.read_csv(\"Foreign_Exchange_Rates.csv\")"
   ]
  },
  {
   "cell_type": "code",
   "execution_count": null,
   "id": "f737d2e1-3132-4475-ae74-8d6777cc0d2e",
   "metadata": {},
   "outputs": [],
   "source": [
    "df.replace(\"ND\",np.nan)\n",
    "df = df.dropna()\n",
    "df.drop([df.columns[0]],inplace= True ,axis=1)"
   ]
  },
  {
   "cell_type": "code",
   "execution_count": null,
   "id": "ff133a5f-28e8-49df-b19c-29b2159e524e",
   "metadata": {},
   "outputs": [],
   "source": [
    "dft = df.T"
   ]
  },
  {
   "cell_type": "code",
   "execution_count": null,
   "id": "f6d342e5-f91a-417d-9e90-af5d2244119d",
   "metadata": {},
   "outputs": [],
   "source": []
  }
 ],
 "metadata": {
  "kernelspec": {
   "display_name": "Python 3 (ipykernel)",
   "language": "python",
   "name": "python3"
  },
  "language_info": {
   "codemirror_mode": {
    "name": "ipython",
    "version": 3
   },
   "file_extension": ".py",
   "mimetype": "text/x-python",
   "name": "python",
   "nbconvert_exporter": "python",
   "pygments_lexer": "ipython3",
   "version": "3.8.5"
  }
 },
 "nbformat": 4,
 "nbformat_minor": 5
}
