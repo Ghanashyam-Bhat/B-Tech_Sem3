{
 "cells": [
  {
   "cell_type": "code",
   "execution_count": 180,
   "id": "e15456b7-86f5-4de9-9813-839d6f7662dd",
   "metadata": {},
   "outputs": [],
   "source": [
    "import numpy as np\n",
    "import pandas as pd\n",
    "import matplotlib.pyplot as plt\n",
    "df = pd.read_csv(\"district_wise.csv\")"
   ]
  },
  {
   "cell_type": "code",
   "execution_count": 181,
   "id": "6b9a4d85-684f-425d-b58b-c7de81a49b4c",
   "metadata": {},
   "outputs": [],
   "source": [
    "df = df.replace(\"Total District(s)\",np.nan)\n",
    "df = df.replace(\"TOTAL\",np.nan)\n",
    "df = df.replace(\"ZZ TOTAL\",np.nan)\n",
    "df = df.replace(\"DELHI UT TOTAL\",np.nan)\n",
    "df = df.replace(\"A&N ISLANDS\",\"A & N ISLANDS\")\n",
    "df = df.replace(\"D & N HAVELI\",\"D&N HAVELI\")\n",
    "df[\"STATE/UT\"] = df[\"STATE/UT\"].str.upper()\n",
    "df = df.dropna()\n",
    "df[\"sum\"] = df.iloc[:,3:].sum(axis = 1)\n",
    "df[\"Danger index\"] = (df['sum']/max(df['sum']))*100\n",
    "df[\"Safety index\"] = ((df['Danger index']-max(df['Danger index']))*(-1))"
   ]
  },
  {
   "cell_type": "code",
   "execution_count": 182,
   "id": "0632bbdd-713e-46af-81cb-65c4437beb57",
   "metadata": {},
   "outputs": [],
   "source": [
    "#df.sort_values('sum',ascending=False).to_csv(\"No_total.csv\",index=False)\n",
    "#\n",
    "#df.pivot(index='STATE/UT',columns='DISTRICT',values='index')"
   ]
  },
  {
   "cell_type": "code",
   "execution_count": 183,
   "id": "2fb82f9d-5885-436e-b734-8d1c9e6c6853",
   "metadata": {},
   "outputs": [
    {
     "data": {
      "text/plain": [
       "<BarContainer object of 3121 artists>"
      ]
     },
     "execution_count": 183,
     "metadata": {},
     "output_type": "execute_result"
    },
    {
     "data": {
      "image/png": "[encoded data removed]",
      "text/plain": [
       "<Figure size 432x288 with 1 Axes>"
      ]
     },
     "metadata": {
      "needs_background": "light"
     },
     "output_type": "display_data"
    }
   ],
   "source": [
    "plt.xticks(rotation=90)\n",
    "plt.bar(df.sort_values('sum',ascending=False)[\"STATE/UT\"],df.sort_values('sum',ascending=False)[\"Danger index\"],width=0.5,align=\"center\")\n"
   ]
  },
  {
   "cell_type": "code",
   "execution_count": 184,
   "id": "4e07d463-8fea-4c2a-9962-ef6d98cef7cc",
   "metadata": {},
   "outputs": [
    {
     "data": {
      "text/html": [
       "<div>\n",
       "<style scoped>\n",
       "    .dataframe tbody tr th:only-of-type {\n",
       "        vertical-align: middle;\n",
       "    }\n",
       "\n",
       "    .dataframe tbody tr th {\n",
       "        vertical-align: top;\n",
       "    }\n",
       "\n",
       "    .dataframe thead th {\n",
       "        text-align: right;\n",
       "    }\n",
       "</style>\n",
       "<table border=\"1\" class=\"dataframe\">\n",
       "  <thead>\n",
       "    <tr style=\"text-align: right;\">\n",
       "      <th></th>\n",
       "      <th>STATE/UT</th>\n",
       "      <th>DISTRICT</th>\n",
       "      <th>Safety index</th>\n",
       "    </tr>\n",
       "  </thead>\n",
       "  <tbody>\n",
       "    <tr>\n",
       "      <th>3196</th>\n",
       "      <td>WEST BENGAL</td>\n",
       "      <td>South 24 Parganas</td>\n",
       "      <td>-0.000000</td>\n",
       "    </tr>\n",
       "    <tr>\n",
       "      <th>749</th>\n",
       "      <td>WEST BENGAL</td>\n",
       "      <td>MURSHIDABAD</td>\n",
       "      <td>1.342573</td>\n",
       "    </tr>\n",
       "    <tr>\n",
       "      <th>1558</th>\n",
       "      <td>WEST BENGAL</td>\n",
       "      <td>MURSHIDABAD</td>\n",
       "      <td>8.921611</td>\n",
       "    </tr>\n",
       "    <tr>\n",
       "      <th>732</th>\n",
       "      <td>WEST BENGAL</td>\n",
       "      <td>24 PARGANAS NORTH</td>\n",
       "      <td>18.146384</td>\n",
       "    </tr>\n",
       "    <tr>\n",
       "      <th>3216</th>\n",
       "      <td>WEST BENGAL</td>\n",
       "      <td>Murshidabad</td>\n",
       "      <td>19.380684</td>\n",
       "    </tr>\n",
       "    <tr>\n",
       "      <th>733</th>\n",
       "      <td>WEST BENGAL</td>\n",
       "      <td>24 PARGANAS SOUTH</td>\n",
       "      <td>22.412300</td>\n",
       "    </tr>\n",
       "    <tr>\n",
       "      <th>2848</th>\n",
       "      <td>MAHARASHTRA</td>\n",
       "      <td>Mumbai Commr.</td>\n",
       "      <td>25.054136</td>\n",
       "    </tr>\n",
       "    <tr>\n",
       "      <th>3195</th>\n",
       "      <td>WEST BENGAL</td>\n",
       "      <td>North 24 Parganas</td>\n",
       "      <td>33.585968</td>\n",
       "    </tr>\n",
       "    <tr>\n",
       "      <th>2380</th>\n",
       "      <td>WEST BENGAL</td>\n",
       "      <td>MURSHIDABAD</td>\n",
       "      <td>36.249459</td>\n",
       "    </tr>\n",
       "    <tr>\n",
       "      <th>2030</th>\n",
       "      <td>MAHARASHTRA</td>\n",
       "      <td>MUMBAI COMMR.</td>\n",
       "      <td>37.808575</td>\n",
       "    </tr>\n",
       "  </tbody>\n",
       "</table>\n",
       "</div>"
      ],
      "text/plain": [
       "         STATE/UT           DISTRICT  Safety index\n",
       "3196  WEST BENGAL  South 24 Parganas     -0.000000\n",
       "749   WEST BENGAL        MURSHIDABAD      1.342573\n",
       "1558  WEST BENGAL        MURSHIDABAD      8.921611\n",
       "732   WEST BENGAL  24 PARGANAS NORTH     18.146384\n",
       "3216  WEST BENGAL        Murshidabad     19.380684\n",
       "733   WEST BENGAL  24 PARGANAS SOUTH     22.412300\n",
       "2848  MAHARASHTRA      Mumbai Commr.     25.054136\n",
       "3195  WEST BENGAL  North 24 Parganas     33.585968\n",
       "2380  WEST BENGAL        MURSHIDABAD     36.249459\n",
       "2030  MAHARASHTRA      MUMBAI COMMR.     37.808575"
      ]
     },
     "execution_count": 184,
     "metadata": {},
     "output_type": "execute_result"
    }
   ],
   "source": [
    "df.sort_values('Danger index',ascending=False)[[\"STATE/UT\",\"DISTRICT\",\"Safety index\"]].head(10)"
   ]
  },
  {
   "cell_type": "code",
   "execution_count": 197,
   "id": "36cd4048-6cbe-459c-8e03-c7f27b35b2e5",
   "metadata": {},
   "outputs": [
    {
     "data": {
      "text/html": [
       "<div>\n",
       "<style scoped>\n",
       "    .dataframe tbody tr th:only-of-type {\n",
       "        vertical-align: middle;\n",
       "    }\n",
       "\n",
       "    .dataframe tbody tr th {\n",
       "        vertical-align: top;\n",
       "    }\n",
       "\n",
       "    .dataframe thead th {\n",
       "        text-align: right;\n",
       "    }\n",
       "</style>\n",
       "<table border=\"1\" class=\"dataframe\">\n",
       "  <thead>\n",
       "    <tr style=\"text-align: right;\">\n",
       "      <th></th>\n",
       "      <th>STATE/UT</th>\n",
       "      <th>DISTRICT</th>\n",
       "      <th>Safety index</th>\n",
       "    </tr>\n",
       "  </thead>\n",
       "  <tbody>\n",
       "    <tr>\n",
       "      <th>2639</th>\n",
       "      <td>HARYANA</td>\n",
       "      <td>Irrigation &amp; Power</td>\n",
       "      <td>100.0</td>\n",
       "    </tr>\n",
       "    <tr>\n",
       "      <th>1863</th>\n",
       "      <td>JAMMU &amp; KASHMIR</td>\n",
       "      <td>RAILWAYS KATRA</td>\n",
       "      <td>100.0</td>\n",
       "    </tr>\n",
       "    <tr>\n",
       "      <th>2089</th>\n",
       "      <td>MIZORAM</td>\n",
       "      <td>SPL NARCOTIC</td>\n",
       "      <td>100.0</td>\n",
       "    </tr>\n",
       "    <tr>\n",
       "      <th>2090</th>\n",
       "      <td>MIZORAM</td>\n",
       "      <td>TRAFFIC PS</td>\n",
       "      <td>100.0</td>\n",
       "    </tr>\n",
       "    <tr>\n",
       "      <th>233</th>\n",
       "      <td>JAMMU &amp; KASHMIR</td>\n",
       "      <td>CRIME JAMMU</td>\n",
       "      <td>100.0</td>\n",
       "    </tr>\n",
       "    <tr>\n",
       "      <th>445</th>\n",
       "      <td>MANIPUR</td>\n",
       "      <td>CID</td>\n",
       "      <td>100.0</td>\n",
       "    </tr>\n",
       "    <tr>\n",
       "      <th>1274</th>\n",
       "      <td>NAGALAND</td>\n",
       "      <td>LONGLENG</td>\n",
       "      <td>100.0</td>\n",
       "    </tr>\n",
       "    <tr>\n",
       "      <th>1636</th>\n",
       "      <td>ARUNACHAL PRADESH</td>\n",
       "      <td>ANJAW</td>\n",
       "      <td>100.0</td>\n",
       "    </tr>\n",
       "    <tr>\n",
       "      <th>2095</th>\n",
       "      <td>NAGALAND</td>\n",
       "      <td>LONGLENG</td>\n",
       "      <td>100.0</td>\n",
       "    </tr>\n",
       "    <tr>\n",
       "      <th>55</th>\n",
       "      <td>ASSAM</td>\n",
       "      <td>C.I.D.</td>\n",
       "      <td>100.0</td>\n",
       "    </tr>\n",
       "  </tbody>\n",
       "</table>\n",
       "</div>"
      ],
      "text/plain": [
       "               STATE/UT            DISTRICT  Safety index\n",
       "2639            HARYANA  Irrigation & Power         100.0\n",
       "1863    JAMMU & KASHMIR      RAILWAYS KATRA         100.0\n",
       "2089            MIZORAM        SPL NARCOTIC         100.0\n",
       "2090            MIZORAM          TRAFFIC PS         100.0\n",
       "233     JAMMU & KASHMIR         CRIME JAMMU         100.0\n",
       "445             MANIPUR                 CID         100.0\n",
       "1274           NAGALAND            LONGLENG         100.0\n",
       "1636  ARUNACHAL PRADESH               ANJAW         100.0\n",
       "2095           NAGALAND            LONGLENG         100.0\n",
       "55                ASSAM              C.I.D.         100.0"
      ]
     },
     "execution_count": 197,
     "metadata": {},
     "output_type": "execute_result"
    }
   ],
   "source": [
    "df.sort_values('Safety index',ascending=False)[[\"STATE/UT\",\"DISTRICT\",\"Safety index\"]].head(10)"
   ]
  },
  {
   "cell_type": "code",
   "execution_count": 201,
   "id": "318a8668-ea7c-4a6e-bd42-529868ca651a",
   "metadata": {},
   "outputs": [
    {
     "data": {
      "text/plain": [
       "<BarContainer object of 3121 artists>"
      ]
     },
     "execution_count": 201,
     "metadata": {},
     "output_type": "execute_result"
    },
    {
     "data": {
      "image/png": "[encoded data removed]",
      "text/plain": [
       "<Figure size 432x288 with 1 Axes>"
      ]
     },
     "metadata": {
      "needs_background": "light"
     },
     "output_type": "display_data"
    }
   ],
   "source": [
    "plt.xticks(rotation=90)\n",
    "plt.bar(df.sort_values('Rape',ascending=False)[\"STATE/UT\"],df.sort_values('Rape',ascending=False)[\"Rape\"],width=0.5,align=\"center\")"
   ]
  },
  {
   "cell_type": "code",
   "execution_count": null,
   "id": "f3994190-1fd9-4a60-9f51-62597124119f",
   "metadata": {},
   "outputs": [],
   "source": []
  },
  {
   "cell_type": "code",
   "execution_count": 202,
   "id": "b1c70caf-a169-4340-b723-0e02b1a80d4e",
   "metadata": {},
   "outputs": [],
   "source": [
    "df.sort_values('Danger index',ascending=False).to_csv(\"new.csv\",index=False)"
   ]
  },
  {
   "cell_type": "code",
   "execution_count": null,
   "id": "fca4a4a7-4d7f-4d20-b580-59b97417652c",
   "metadata": {},
   "outputs": [],
   "source": []
  }
 ],
 "metadata": {
  "kernelspec": {
   "display_name": "Python 3 (ipykernel)",
   "language": "python",
   "name": "python3"
  },
  "language_info": {
   "codemirror_mode": {
    "name": "ipython",
    "version": 3
   },
   "file_extension": ".py",
   "mimetype": "text/x-python",
   "name": "python",
   "nbconvert_exporter": "python",
   "pygments_lexer": "ipython3",
   "version": "3.8.5"
  }
 },
 "nbformat": 4,
 "nbformat_minor": 5
}
